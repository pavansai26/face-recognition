{
 "cells": [
  {
   "cell_type": "code",
   "execution_count": 1,
   "metadata": {},
   "outputs": [],
   "source": [
    "import cv2"
   ]
  },
  {
   "cell_type": "code",
   "execution_count": 2,
   "metadata": {},
   "outputs": [],
   "source": [
    "face_cascade = cv2.CascadeClassifier('C:/Users/lenovo/Downloads/Realtime-Emotion-Detection-master/Realtime-Emotion-Detection-master/cascade.xml')"
   ]
  },
  {
   "cell_type": "code",
   "execution_count": null,
   "metadata": {},
   "outputs": [],
   "source": [
    "import cv2\n",
    "face_cascade = cv2.CascadeClassifier('C:/Users/lenovo/Downloads/Realtime-Emotion-Detection-master/Realtime-Emotion-Detection-master/cascade.xml')\n",
    "cap = cv2.VideoCapture(0)\n",
    "while True:\n",
    "    ret, img = cap.read()\n",
    "    gray = cv2.cvtColor(img, cv2.COLOR_BGR2GRAY)\n",
    "    faces = face_cascade.detectMultiScale(gray, 1.3, 5)\n",
    "    for (x,y,w,h) in faces: \n",
    "        # To draw a rectangle in a face  \n",
    "        cv2.rectangle(img,(x,y),(x+w,y+h),(255,255,0),2)  \n",
    "        roi_gray = gray[y:y+h, x:x+w] \n",
    "        roi_color = img[y:y+h, x:x+w] \n",
    "        cv2.imshow('img',img) \n",
    "  \n",
    "    # Wait for Esc key to stop \n",
    "    if cv2.waitKey(30)== ord('r'):\n",
    "        cap.release()\n",
    "        cv2.destroyAllWindows()\n",
    "        \n",
    "    \n"
   ]
  },
  {
   "cell_type": "raw",
   "metadata": {},
   "source": [
    "import "
   ]
  },
  {
   "cell_type": "code",
   "execution_count": 1,
   "metadata": {},
   "outputs": [],
   "source": [
    "import cv2"
   ]
  },
  {
   "cell_type": "code",
   "execution_count": 2,
   "metadata": {},
   "outputs": [
    {
     "name": "stdout",
     "output_type": "stream",
     "text": [
      "C:\\Users\\lenovo\\Anaconda3\\lib\\site-packages\\cv2\\cv2.cp37-win_amd64.pyd\n"
     ]
    }
   ],
   "source": [
    "print(cv2.__file__)"
   ]
  },
  {
   "cell_type": "code",
   "execution_count": null,
   "metadata": {},
   "outputs": [],
   "source": [
    "# this code is only for front face detection. if you turn your face it will not detect\n",
    "import numpy as np\n",
    "import cv2\n",
    "cap=cv2.VideoCapture(0)\n",
    "while(True):\n",
    "    ret,frame=cap.read()\n",
    "    gray=cv2.cvtColor(frame,cv2.COLOR_BGR2GRAY)\n",
    "    face_cascade = cv2.CascadeClassifier('C:/Users/lenovo/Documents/jupyter notebook/cv2 xml files/haarcascade_frontalface_alt2.xml')\n",
    "    faces=face_cascade.detectMultiScale(gray,1.5,5)\n",
    "    for (x,y,w,h) in faces:\n",
    "        print(x,y,w,h)\n",
    "        roi_gray=gray[y:y+h,x:x+w]\n",
    "        roi_color=frame[y:y+h,x:x+w]\n",
    "        #img_item='myface.jpeg'\n",
    "        #cv2.imwrite(img_item,roi_gray)\n",
    "        color=(255,0,0)\n",
    "        stroke=3\n",
    "        cv2.rectangle(frame,(x,y),(x+w,y+h),color,stroke)\n",
    "    #cv2.imshow('frame',gray)\n",
    "    #if cv2.waitkey(20) & 0XFF == ord('q'):\n",
    "        "
   ]
  },
  {
   "cell_type": "code",
   "execution_count": null,
   "metadata": {},
   "outputs": [],
   "source": [
    "import numpy as np\n",
    "import cv2\n",
    "cap=cv2.VideoCapture(0)\n",
    "while(True):\n",
    "    ret,frame=cap.read()\n",
    "    gray=cv2.cvtColor(frame,cv2.COLOR_BGR2GRAY)\n",
    "    face_cascade = cv2.CascadeClassifier('C:/Users/lenovo/Documents/jupyter notebook/cv2 xml files/haarcascade_profileface.xml')\n",
    "    faces=face_cascade.detectMultiScale(gray,1.5,5)\n",
    "    for (x,y,w,h) in faces:\n",
    "        print(x,y,w,h)\n",
    "        roi_gray=gray[y:y+h,x:x+w]\n",
    "        roi_color=frame[y:y+h,x:x+w]\n",
    "        #img_item='myface.jpeg'\n",
    "        #cv2.imwrite(img_item,roi_gray)\n",
    "        color=(255,0,0)\n",
    "        stroke=3\n",
    "        cv2.rectangle(frame,(x,y),(x+w,y+h),color,stroke)\n",
    "    #cv2.imshow('frame',gray)\n",
    "    #if cv2.waitkey(20) & 0XFF == ord('q'):\n",
    "        "
   ]
  },
  {
   "cell_type": "code",
   "execution_count": 9,
   "metadata": {},
   "outputs": [],
   "source": [
    "import os\n",
    "from PIL import Image"
   ]
  },
  {
   "cell_type": "code",
   "execution_count": 10,
   "metadata": {},
   "outputs": [],
   "source": [
    "base_dir=os.path.dirname(os.path.abspath('fff'))\n",
    "imag_dir=os.path.join(base_dir,'images')"
   ]
  },
  {
   "cell_type": "code",
   "execution_count": 11,
   "metadata": {},
   "outputs": [
    {
     "data": {
      "text/plain": [
       "'C:\\\\Users\\\\lenovo\\\\3D Objects\\\\upsteer'"
      ]
     },
     "execution_count": 11,
     "metadata": {},
     "output_type": "execute_result"
    }
   ],
   "source": [
    "base_dir"
   ]
  },
  {
   "cell_type": "code",
   "execution_count": 12,
   "metadata": {},
   "outputs": [],
   "source": [
    "file='C:/Users/Administrator/Desktop/Facial expression'\n",
    "categories=['angry','comparision','no customers','sad','search','smile']"
   ]
  },
  {
   "cell_type": "code",
   "execution_count": null,
   "metadata": {},
   "outputs": [],
   "source": [
    "x_train=[]\n",
    "y_labels=[]\n",
    "labelids={}\n",
    "face_cascade = cv2.CascadeClassifier('C:/Users/lenovo/Documents/jupyter notebook/cv2 xml files/haarcascade_profileface.xml')\n",
    "for root,dirs,files in os.walk(file):\n",
    "    for file in files:\n",
    "        if files.endswith('jpg') or endswith('jpeg'):\n",
    "            path=os.path.join(root,file)\n",
    "            label=os.path.basename(os.path.dirname(path)).replace(' ','-').lower()\n",
    "            print(label,path)\n",
    "            if label in labelids:\n",
    "                pass\n",
    "            else:\n",
    "                label_ids[label]=current_id\n",
    "                current_id+=1\n",
    "                \n",
    "            #x_train.append(path)\n",
    "            #y_labels.append(label)\n",
    "            pil_image=Image.open(path).convert('L') #convert grey\n",
    "            img_array=np.array(pil_image,'uint8')\n",
    "            print(img_array)\n",
    "            faces=face_cascade.detectMultiScale(img_array,1.5,5)\n",
    "            for (x,y,w,h) in faces:\n",
    "                roi=img_array[y:y+h,x:x+w]\n",
    "                x_train.append(roi)\n",
    "                \n",
    "\n",
    "\n",
    "\n",
    "           \n",
    "            \n",
    "\n",
    "    "
   ]
  },
  {
   "cell_type": "code",
   "execution_count": null,
   "metadata": {},
   "outputs": [],
   "source": []
  }
 ],
 "metadata": {
  "kernelspec": {
   "display_name": "Python 3",
   "language": "python",
   "name": "python3"
  },
  "language_info": {
   "codemirror_mode": {
    "name": "ipython",
    "version": 3
   },
   "file_extension": ".py",
   "mimetype": "text/x-python",
   "name": "python",
   "nbconvert_exporter": "python",
   "pygments_lexer": "ipython3",
   "version": "3.7.3"
  }
 },
 "nbformat": 4,
 "nbformat_minor": 2
}
